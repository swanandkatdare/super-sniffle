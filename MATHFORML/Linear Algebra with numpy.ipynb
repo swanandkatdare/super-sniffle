{
 "cells": [
  {
   "cell_type": "markdown",
   "metadata": {},
   "source": [
    "### Vector Spaces and Vectors:\n",
    "\n",
    "*We discuss here vectors and vector spaces in general but we focus on the Euclidean Space*\n",
    "\n",
    "A Vector Space , is defined by a set of vectors for example R3 (real numbers) is a vector space , 3 denominates the dimensions (x-axis,y-axis,z-axis) an element of R3 is called a vector and is represented as a linear combination of x,y,z .\n",
    "Vectors can be added togther or multiplied by a scalar ( a real number) and respect the axioms of groups :\n",
    "\n",
    "- That is given two vectors x,y we have the following :\n",
    "    - There exists a zero-element called the null vector 0 such as x+0 = x\n",
    "    - There exists an inverse element -x such as x + (-x) = 0\n",
    "    - There exists a multiplicative identity such as 1x = x \n",
    "    - Commutativity (x+y = y+x) , Distributivity (m(y+z) = m*y + m*z) where m is a scalar , Associativity (x+(y+z) = (x+y+z) = (x+y)+z)\n",
    "\n",
    "\n",
    "**P.S** : We can say that vectors are tuples of scalars .\n",
    "\n",
    "- span of a set of vectors that is for example, span{x,y,z} is the set of all vectors that are linear combinations of {x,y,z} in other words all elements that can be written as ax+by+cz with (a,b,c) are real numbers constitute a span , the elements of a span are themselves vectors .\n",
    "\n",
    "- the elements of a span if lineraly independant , meaning that if ax+by+cz = 0 => a=b=c =0 ,are called basis and represent the backbone of that vector space .\n",
    "\n",
    "- the basis of R3 = (x,y,z) such as x = (1,0,0) , y =(0,1,0) ,z =(0,0,1) any vector v = ax+by+cz is equal to the null vector (0,0,0) implies a=b=c = 0 \n",
    "\n",
    "- The Euclidean space basis is the set of vectors, Vi = {0,0,0,i,0,0...0} where the i-th value is 1 and the rest is zero x-axis is the vector x = (1,0,0) , y = (0,1,0) , z = (0,0,1) \n",
    "\n",
    "- vectors are represented in a column forms called column vectors \n",
    "\n",
    "**Linear Maps** : a Linear map is a function T : U -> V where U and V are vector spaces that satisfies T(x+y) = Tx+Ty and T(ax) = aTx . A Linear map is a function that operates on vectors **but** it's more precisely a transformation from one vector space to another . (*Mutli-variate functions operate on vectors but are not Linear maps*) .\n",
    "\n",
    "The matrix-vector product is used to define the notion of a linear transformation, which is one of the key notions in the study of linear algebra. Multiplication by a matrix A ∈ Rm×n can be thought of as computing a linear transformation TA that takes n-vectors as inputs and produces m-vectors as outputs:\n",
    "\n",
    "**Matrices** are groups of vectors (column-wise) they have a rectangular shape (square in case the number of rows is the sames as the number of columns), now every linear map can be written as a matrix \n",
    "\n",
    "Now we will take a look at operations on vectors and matrices .\n",
    "\n"
   ]
  },
  {
   "cell_type": "code",
   "execution_count": 1,
   "metadata": {},
   "outputs": [],
   "source": [
    "import numpy as np"
   ]
  },
  {
   "cell_type": "code",
   "execution_count": 2,
   "metadata": {},
   "outputs": [
    {
     "name": "stdout",
     "output_type": "stream",
     "text": [
      "[5 3 0]\n",
      "[2.  0.3 0. ]\n"
     ]
    }
   ],
   "source": [
    "A = np.array([1,2,3])\n",
    "\n",
    "\"R3 basis\"\n",
    "x = np.array([1,0,0])\n",
    "y = np.array([0,1,0])\n",
    "z = np.array([0,0,1])\n",
    "\n",
    "\"operations\"\n",
    "u = 5*x+3*y\n",
    "v = 2*x + 0.3*y\n",
    "\n",
    "print(u)\n",
    "print(v)"
   ]
  },
  {
   "cell_type": "code",
   "execution_count": 3,
   "metadata": {},
   "outputs": [
    {
     "name": "stdout",
     "output_type": "stream",
     "text": [
      "[[1 0 0]\n",
      " [0 1 0]\n",
      " [0 0 1]]\n"
     ]
    }
   ],
   "source": [
    "\"matrices are multi dimensions let's create the linear map I that is the identity matrix of R3\"\n",
    "I = np.array([x,y,z])\n",
    "print(I)\n"
   ]
  },
  {
   "cell_type": "code",
   "execution_count": 4,
   "metadata": {},
   "outputs": [
    {
     "name": "stdout",
     "output_type": "stream",
     "text": [
      "[[ 0.18595127 -2.3745461   1.37523735]\n",
      " [-0.77113061  0.65455118  1.38924668]\n",
      " [ 1.07840709 -0.43058979  0.25444376]]\n"
     ]
    }
   ],
   "source": [
    "\"identity matrix is like a mirror it's the equivalent of 1 in numbers every matrix M multiplied by I is equal to M\"\n",
    "M = np.random.randn(3,3)\n",
    "print(M)"
   ]
  },
  {
   "cell_type": "code",
   "execution_count": 5,
   "metadata": {},
   "outputs": [
    {
     "name": "stdout",
     "output_type": "stream",
     "text": [
      "[[ 0.18595127 -2.3745461   1.37523735]\n",
      " [-0.77113061  0.65455118  1.38924668]\n",
      " [ 1.07840709 -0.43058979  0.25444376]]\n"
     ]
    }
   ],
   "source": [
    "print(M.dot(I))"
   ]
  },
  {
   "cell_type": "code",
   "execution_count": 6,
   "metadata": {},
   "outputs": [
    {
     "name": "stdout",
     "output_type": "stream",
     "text": [
      "[[ 0.18595127 -0.77113061  1.07840709]\n",
      " [-2.3745461   0.65455118 -0.43058979]\n",
      " [ 1.37523735  1.38924668  0.25444376]]\n"
     ]
    }
   ],
   "source": [
    "\"matrix or vector transpose is basically transformin the columns to rows from 0 to j\"\n",
    "\"since vector are n*1 matrices transposing them is just writing them in row form instead of column \"\n",
    "print(M.T)\n"
   ]
  },
  {
   "cell_type": "code",
   "execution_count": 7,
   "metadata": {},
   "outputs": [
    {
     "name": "stdout",
     "output_type": "stream",
     "text": [
      "[[ 1.00000000e+00 -7.60759970e-17  4.83312022e-17]\n",
      " [ 2.42625840e-17  1.00000000e+00  2.88089247e-18]\n",
      " [-1.73401580e-17 -1.14362407e-17  1.00000000e+00]]\n"
     ]
    }
   ],
   "source": [
    "\"inverses : the inverse of a matrix A , is A^-1 such as A*A^-1 = I\"\n",
    "invM = np.linalg.inv(M)\n",
    "\n",
    "print(invM.dot(M))"
   ]
  },
  {
   "cell_type": "markdown",
   "metadata": {},
   "source": [
    "### Solving Linear Systems\n",
    "sometimes we face a problem where we have to find a vector x such as Ax = b where A a matrix and b another vector\n",
    "since there's no matrix division we can solve this by using matrix inverse since we have the following : \n",
    "\n",
    "- x = A-1 * b\n",
    "\n",
    "*where A-1 is the inverse of A , we can do this in numpy fairly easily using the solve function *\n",
    "\n",
    "Suppose the following problem\n",
    "\n",
    "    x+3y+5z = 10\n",
    "    2x+5y+z = 8\n",
    "    2x+3y+8z = 3\n",
    "    \n",
    "Let's solve this one if you invert A by hand you'll find the x = (-9.3,5.18,0.75)\n"
   ]
  },
  {
   "cell_type": "code",
   "execution_count": 8,
   "metadata": {},
   "outputs": [
    {
     "name": "stdout",
     "output_type": "stream",
     "text": [
      "[-9.28  5.16  0.76]\n"
     ]
    }
   ],
   "source": [
    "A = np.array([[1,3,5],[2,5,1],[2,3,8]])\n",
    "b = np.array([10,8,3])\n",
    "\n",
    "\"finding x\"\n",
    "x = np.linalg.solve(A,b)\n",
    "print(x)"
   ]
  },
  {
   "cell_type": "markdown",
   "metadata": {},
   "source": [
    "### The Eigens Club\n",
    "\n",
    "Eigenvectors of a matrix A (**SQUARE MATRICES ONLY**), is a set of vectors that scales the matrix for example if A has an eigenvector Vi then\n",
    "A * Vi is a transformation to A a *scaling* the result of this operation is equal to Vi multiplied by it's eigenvalue this helps us to decompose a matrix A into a product of 3 matrices namely :\n",
    "\n",
    "(1) A * v = lambda * v (where v is an eigenvector and lambda is the corresponding eigenvalue)\n",
    "\n",
    "A = Q * V * Q^-1 \n",
    "\n",
    "Where Q is a matrix whose vectors are the eigenvectors of A , V is a diagonal matrix where V(i,j) = E(i) if i=j 0 otherwise and Q^-1 is the eigenvectors matrix inversed .\n",
    "\n",
    "By Hand to find the Eigenvalue one has to find the roots of the caracteristic polynomial of the matrix A,the eigenvectors can be found using (1) .\n",
    "\n",
    "*P.S* : E(i) is the eigenvalue (i) of A \n",
    "*P.S 2* : Google's PageRank is an eigenvector calculation with the matrix of weblinks"
   ]
  },
  {
   "cell_type": "code",
   "execution_count": 9,
   "metadata": {},
   "outputs": [
    {
     "name": "stdout",
     "output_type": "stream",
     "text": [
      "Eigenvalues :  [ 7.9579162  -1.25766471  0.2997485 ]\n",
      "Eigenvectors:  [[-0.37294331 -0.8469192  -0.06850557]\n",
      " [-0.88647995  0.32638018 -0.82264159]\n",
      " [-0.2739828   0.41976641  0.5644181 ]]\n"
     ]
    }
   ],
   "source": [
    "A = np.array([[1,2,3],[5,4,6],[2,1,2]])\n",
    "\n",
    "eigenvalues,eigenvectors = np.linalg.eig(A)\n",
    "\n",
    "print(\"Eigenvalues : \" ,eigenvalues)\n",
    "print(\"Eigenvectors: \" ,eigenvectors)"
   ]
  },
  {
   "cell_type": "markdown",
   "metadata": {},
   "source": [
    "**The Eigen decomposition is just one method to decompose matrices there are many more *SVD*,*LU*,*QR*,*Cholesky* ...** each has it's own usecase but they can all be computed using numpy .\n"
   ]
  },
  {
   "cell_type": "code",
   "execution_count": null,
   "metadata": {},
   "outputs": [],
   "source": []
  }
 ],
 "metadata": {
  "kernelspec": {
   "display_name": "Python 3",
   "language": "python",
   "name": "python3"
  },
  "language_info": {
   "codemirror_mode": {
    "name": "ipython",
    "version": 3
   },
   "file_extension": ".py",
   "mimetype": "text/x-python",
   "name": "python",
   "nbconvert_exporter": "python",
   "pygments_lexer": "ipython3",
   "version": "3.5.2"
  }
 },
 "nbformat": 4,
 "nbformat_minor": 2
}
